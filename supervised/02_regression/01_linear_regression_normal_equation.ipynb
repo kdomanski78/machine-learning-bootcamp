{
  "nbformat": 4,
  "nbformat_minor": 0,
  "metadata": {
    "colab": {
      "name": "01_linear_regression_normal_equation.ipynb",
      "provenance": [],
      "include_colab_link": true
    },
    "kernelspec": {
      "name": "python3",
      "display_name": "Python 3"
    }
  },
  "cells": [
    {
      "cell_type": "markdown",
      "metadata": {
        "id": "view-in-github",
        "colab_type": "text"
      },
      "source": [
        "<a href=\"https://colab.research.google.com/github/kdomanski78/machine-learning-bootcamp/blob/main/supervised/02_regression/01_linear_regression_normal_equation.ipynb\" target=\"_parent\"><img src=\"https://colab.research.google.com/assets/colab-badge.svg\" alt=\"Open In Colab\"/></a>"
      ]
    },
    {
      "cell_type": "markdown",
      "metadata": {
        "id": "foUlrTWjZpzE"
      },
      "source": [
        "### scikit-learn\n",
        "Strona biblioteki: [https://scikit-learn.org](https://scikit-learn.org)  \n",
        "\n",
        "Dokumentacja/User Guide: [https://scikit-learn.org/stable/user_guide.html](https://scikit-learn.org/stable/user_guide.html)\n",
        "\n",
        "Podstawowa biblioteka do uczenia maszynowego w języku Python.\n",
        "\n",
        "Aby zainstalować bibliotekę scikit-learn, użyj polecenia poniżej:\n",
        "```\n",
        "!pip install scikit-learn\n",
        "```\n",
        "Aby zaktualizować do najnowszej wersji bibliotekę scikit-learn, użyj polecenia poniżej:\n",
        "```\n",
        "!pip install --upgrade scikit-learn\n",
        "```\n",
        "Kurs stworzony w oparciu o wersję `0.22.1`\n",
        "\n",
        "### Spis treści:\n",
        "1. [Import bibliotek](#0)\n",
        "2. [Przygotowanie danych](#1)\n",
        "3. [Równanie normalne](#2)\n",
        "4. [Regresja liniowa przy pomocy scikit-learn](#3)\n",
        "\n",
        "\n"
      ]
    },
    {
      "cell_type": "markdown",
      "metadata": {
        "id": "i4UpSSDvZz2v"
      },
      "source": [
        "### <a name='0'></a> Import bibliotek"
      ]
    },
    {
      "cell_type": "code",
      "metadata": {
        "id": "VQ0ieU0UdN5D"
      },
      "source": [
        "import numpy as np"
      ],
      "execution_count": 2,
      "outputs": []
    },
    {
      "cell_type": "markdown",
      "metadata": {
        "id": "K6AR6Vofa2DK"
      },
      "source": [
        "### <a name='1'></a> Przygotowanie danych"
      ]
    },
    {
      "cell_type": "code",
      "metadata": {
        "id": "UDbWnF8rdceb",
        "colab": {
          "base_uri": "https://localhost:8080/"
        },
        "outputId": "fd7e24d9-004a-453a-c236-509d0b464c4f"
      },
      "source": [
        "X1 = np.array([1, 2, 3, 4, 5, 6])\n",
        "Y = np.array([3000, 3250, 3500, 3750, 4000, 4250])\n",
        "m = len(X1)\n",
        "\n",
        "print(f'Lata pracy: {X1}')\n",
        "print(f'Wynagrodzenie: {Y}')\n",
        "print(f'Liczba próbek: {m}')"
      ],
      "execution_count": 3,
      "outputs": [
        {
          "output_type": "stream",
          "name": "stdout",
          "text": [
            "Lata pracy: [1 2 3 4 5 6]\n",
            "Wynagrodzenie: [3000 3250 3500 3750 4000 4250]\n",
            "Liczba próbek: 6\n"
          ]
        }
      ]
    },
    {
      "cell_type": "code",
      "metadata": {
        "id": "qCl-HE9pZDp7",
        "colab": {
          "base_uri": "https://localhost:8080/"
        },
        "outputId": "35bee3a8-9b9a-41c8-88d5-2cfe3973d2bc"
      },
      "source": [
        "X1 = X1.reshape(m, 1)\n",
        "print(X1)\n",
        "print(X1.shape)"
      ],
      "execution_count": 4,
      "outputs": [
        {
          "output_type": "stream",
          "name": "stdout",
          "text": [
            "[[1]\n",
            " [2]\n",
            " [3]\n",
            " [4]\n",
            " [5]\n",
            " [6]]\n",
            "(6, 1)\n"
          ]
        }
      ]
    },
    {
      "cell_type": "code",
      "metadata": {
        "id": "1J5bEXehZPVO",
        "colab": {
          "base_uri": "https://localhost:8080/"
        },
        "outputId": "19f20306-51fa-4296-b669-64068032213e"
      },
      "source": [
        "bias = np.ones((m, 1))\n",
        "print(bias)\n",
        "print(bias.shape)"
      ],
      "execution_count": 5,
      "outputs": [
        {
          "output_type": "stream",
          "name": "stdout",
          "text": [
            "[[1.]\n",
            " [1.]\n",
            " [1.]\n",
            " [1.]\n",
            " [1.]\n",
            " [1.]]\n",
            "(6, 1)\n"
          ]
        }
      ]
    },
    {
      "cell_type": "code",
      "metadata": {
        "id": "25475QsYZznI",
        "colab": {
          "base_uri": "https://localhost:8080/"
        },
        "outputId": "8d1d3d20-c9a1-41f7-babc-53d6a1eb8031"
      },
      "source": [
        "X = np.append(bias, X1, axis=1)\n",
        "print(X)\n",
        "print(X.shape)"
      ],
      "execution_count": 6,
      "outputs": [
        {
          "output_type": "stream",
          "name": "stdout",
          "text": [
            "[[1. 1.]\n",
            " [1. 2.]\n",
            " [1. 3.]\n",
            " [1. 4.]\n",
            " [1. 5.]\n",
            " [1. 6.]]\n",
            "(6, 2)\n"
          ]
        }
      ]
    },
    {
      "cell_type": "markdown",
      "metadata": {
        "id": "UbjsT92Xd3z1"
      },
      "source": [
        "### <a name='2'></a> Równanie normalne\n",
        "\n",
        "Regresja liniowa w $R^2$:\n",
        "$$Y = w_0 + w_1X_1$$\n",
        "$$Y = W^TX$$\n",
        "gdzie: $$W= \\left[\\begin{matrix}w_0\\\\w_1\\end{matrix}\\right]$$ $$ X= \\left[\\begin{matrix}1\\\\X_1\\end{matrix}\\right] $$ stąd $$ W^T= \\left[\\begin{matrix}w_0&w_1\\end{matrix}\\right] $$    \n",
        "$$Y = W^TX = \\left[\\begin{matrix}w_0&w_1\\end{matrix}\\right] \\cdot  \\left[\\begin{matrix}1\\\\X_1\\end{matrix}\\right] = w_0 + w_1X_1$$\n",
        "\n",
        "Równanie normalne - równanie pozwalające obliczyć minimum funkcji straty (o ile istnieje)\n",
        "$$W = (X^TX)^{-1}(X^TY)$$"
      ]
    },
    {
      "cell_type": "code",
      "metadata": {
        "id": "Y9VWdotwoJ74",
        "colab": {
          "base_uri": "https://localhost:8080/"
        },
        "outputId": "acdafd82-0f73-457e-c34e-122db26e0c68"
      },
      "source": [
        "#print(X.T)\n",
        "#print(X)\n",
        "np.dot(X.T, X)"
      ],
      "execution_count": 10,
      "outputs": [
        {
          "output_type": "execute_result",
          "data": {
            "text/plain": [
              "array([[ 6., 21.],\n",
              "       [21., 91.]])"
            ]
          },
          "metadata": {},
          "execution_count": 10
        }
      ]
    },
    {
      "cell_type": "code",
      "metadata": {
        "id": "Pzxu92NaaGaV",
        "colab": {
          "base_uri": "https://localhost:8080/"
        },
        "outputId": "53c43e3f-609c-4e9b-8060-a5463264e485"
      },
      "source": [
        "L = np.linalg.inv(np.dot(X.T, X))\n",
        "L"
      ],
      "execution_count": 11,
      "outputs": [
        {
          "output_type": "execute_result",
          "data": {
            "text/plain": [
              "array([[ 0.86666667, -0.2       ],\n",
              "       [-0.2       ,  0.05714286]])"
            ]
          },
          "metadata": {},
          "execution_count": 11
        }
      ]
    },
    {
      "cell_type": "code",
      "metadata": {
        "id": "xXjqb8XPaaYK",
        "colab": {
          "base_uri": "https://localhost:8080/"
        },
        "outputId": "2aa72019-ad79-4382-e4f3-86d732e4577f"
      },
      "source": [
        "P = np.dot(X.T, Y)\n",
        "P"
      ],
      "execution_count": 12,
      "outputs": [
        {
          "output_type": "execute_result",
          "data": {
            "text/plain": [
              "array([21750., 80500.])"
            ]
          },
          "metadata": {},
          "execution_count": 12
        }
      ]
    },
    {
      "cell_type": "code",
      "metadata": {
        "id": "L0hewPqOae06",
        "colab": {
          "base_uri": "https://localhost:8080/"
        },
        "outputId": "ad0150bd-c4ad-41fd-e5c3-acd4c59fbf07"
      },
      "source": [
        "np.dot(L, P)"
      ],
      "execution_count": 13,
      "outputs": [
        {
          "output_type": "execute_result",
          "data": {
            "text/plain": [
              "array([2750.,  250.])"
            ]
          },
          "metadata": {},
          "execution_count": 13
        }
      ]
    },
    {
      "cell_type": "markdown",
      "metadata": {
        "id": "kQt2Fsp4oPbO"
      },
      "source": [
        "Końcowa postać modelu$$Y = 2750 + 250X_1$$"
      ]
    },
    {
      "cell_type": "markdown",
      "metadata": {
        "id": "DGcZ1G0CbN6D"
      },
      "source": [
        "### <a name='3'></a> Regresja liniowa przy pomocy scikit-learn"
      ]
    },
    {
      "cell_type": "code",
      "metadata": {
        "id": "jDjBjL7noVGj",
        "colab": {
          "base_uri": "https://localhost:8080/"
        },
        "outputId": "2230bf7a-3852-4837-d647-8fd537d80653"
      },
      "source": [
        "from sklearn.linear_model import LinearRegression\n",
        "\n",
        "regression = LinearRegression()\n",
        "regression.fit(X1, Y)\n",
        "\n",
        "print(regression.intercept_)\n",
        "print(regression.coef_[0])"
      ],
      "execution_count": 14,
      "outputs": [
        {
          "output_type": "stream",
          "name": "stdout",
          "text": [
            "2750.0\n",
            "250.0\n"
          ]
        }
      ]
    },
    {
      "cell_type": "code",
      "metadata": {
        "id": "bbqmRlfj0rbo"
      },
      "source": [
        ""
      ],
      "execution_count": null,
      "outputs": []
    }
  ]
}